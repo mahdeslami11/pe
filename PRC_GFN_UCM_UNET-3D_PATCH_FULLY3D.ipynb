{
  "cells": [
    {
      "cell_type": "markdown",
      "metadata": {
        "id": "view-in-github",
        "colab_type": "text"
      },
      "source": [
        "<a href=\"https://colab.research.google.com/github/mahdeslami11/pe/blob/main/PRC_GFN_UCM_UNET-3D_PATCH_FULLY3D.ipynb\" target=\"_parent\"><img src=\"https://colab.research.google.com/assets/colab-badge.svg\" alt=\"Open In Colab\"/></a>"
      ]
    },
    {
      "cell_type": "markdown",
      "metadata": {
        "id": "_xnMOsbqHz61"
      },
      "source": [
        "# DEEP POSITRON RANGE CORRECTION WITH PATCHES - FULLY3D CONFERENCE\n",
        "# J.L.Herraiz et al. GFN - UCM - 2021"
      ]
    },
    {
      "cell_type": "markdown",
      "metadata": {
        "id": "e1_Y75QXJS6h"
      },
      "source": [
        "## STEP 1 ) Load Libraries"
      ]
    },
    {
      "cell_type": "code",
      "execution_count": null,
      "metadata": {
        "id": "YfIk2es3hJEd",
        "outputId": "d47aa661-bb6c-4ae3-fe4c-20f36b9bc9e9"
      },
      "outputs": [
        {
          "data": {
            "text/plain": [
              "'2.4.0'"
            ]
          },
          "execution_count": 1,
          "metadata": {},
          "output_type": "execute_result"
        }
      ],
      "source": [
        "import tensorflow as tf\n",
        "tf.version.VERSION"
      ]
    },
    {
      "cell_type": "raw",
      "metadata": {
        "id": "RFsp3rorUTZq"
      },
      "source": [
        "!pip install opencv-python\n",
        "!pip install keras-unet"
      ]
    },
    {
      "cell_type": "code",
      "execution_count": null,
      "metadata": {
        "id": "tWkIs-b_UTZr"
      },
      "outputs": [],
      "source": [
        "import numpy as np\n",
        "import os\n",
        "import time\n",
        "import matplotlib.pyplot as plt\n",
        "from IPython.display import clear_output\n",
        "import cv2\n",
        "import sklearn.model_selection as sk"
      ]
    },
    {
      "cell_type": "code",
      "execution_count": null,
      "metadata": {
        "colab": {
          "base_uri": "https://localhost:8080/",
          "height": 34
        },
        "id": "77Wav3Dxvuir",
        "outputId": "f9dd000b-a7a3-4f5f-e989-c32e6872bd93"
      },
      "outputs": [
        {
          "name": "stderr",
          "output_type": "stream",
          "text": [
            "C:\\Users\\herra\\anaconda3\\lib\\site-packages\\tensorflow_addons\\utils\\ensure_tf_install.py:53: UserWarning: Tensorflow Addons supports using Python ops for all Tensorflow versions above or equal to 2.2.0 and strictly below 2.4.0 (nightly versions are not supported). \n",
            " The versions of TensorFlow you are currently using is 2.4.0 and is not supported. \n",
            "Some things might work, some things might not.\n",
            "If you were to encounter a bug, do not file an issue.\n",
            "If you want to make sure you're using a tested and supported configuration, either change the TensorFlow version or the TensorFlow Addons's version. \n",
            "You can find the compatibility matrix in TensorFlow Addon's readme:\n",
            "https://github.com/tensorflow/addons\n",
            "  warnings.warn(\n",
            "C:\\Users\\herra\\anaconda3\\lib\\site-packages\\typeguard\\__init__.py:885: UserWarning: no type annotations present -- not typechecking tensorflow_addons.layers.max_unpooling_2d.MaxUnpooling2D.__init__\n",
            "  warn('no type annotations present -- not typechecking {}'.format(function_name(func)))\n"
          ]
        }
      ],
      "source": [
        "#!pip install -q tfa-nightly\n",
        "import tensorflow_addons as tfa"
      ]
    },
    {
      "cell_type": "markdown",
      "metadata": {
        "id": "Bf5UBLu3HKFf"
      },
      "source": [
        "## IMAGE PARAMETERS"
      ]
    },
    {
      "cell_type": "code",
      "execution_count": null,
      "metadata": {
        "id": "qAGoTCoB8mk1"
      },
      "outputs": [],
      "source": [
        "# PARAMETROS DE LAS IMAGENES\n",
        "Nx0 = 154\n",
        "Ny0 = 154\n",
        "Nz0 = 80\n",
        "Nt1 = 7\n",
        "Nt2 = 8\n",
        "Nt = Nt1+Nt2\n",
        "dx = 0.0280\n",
        "dy = 0.0280\n",
        "dz = 0.0280    #VOXEL SIZE (cm) ALONG X,Y,Z\n",
        "\n",
        "# EXTENDED FOV TO MAKE IT MORE DIVISIBLE (PADDED WITH ZEROS)\n",
        "Nx1 = 160\n",
        "Ny1 = 160\n",
        "Nz1 = 81"
      ]
    },
    {
      "cell_type": "code",
      "execution_count": null,
      "metadata": {
        "id": "a_DL8cF2UTZt"
      },
      "outputs": [],
      "source": [
        "ksize_planes = 9\n",
        "ksize_rows = 32\n",
        "ksize_cols = 32\n",
        "\n",
        "stride_planes = 4\n",
        "strides_rows = 16\n",
        "strides_cols = 16\n",
        "\n",
        "ksizes = [1, ksize_planes, ksize_rows, ksize_cols, 1]         #The size of the sliding window for each dimension of input.\n",
        "strides = [1, stride_planes, strides_rows, strides_cols, 1]   #How far the centers of two consecutive patches are in input.\n",
        "padding = \"VALID\""
      ]
    },
    {
      "cell_type": "code",
      "execution_count": null,
      "metadata": {
        "id": "NHZ7stttwFzh"
      },
      "outputs": [],
      "source": [
        "# EXTENDED FOV\n",
        "# FROM EACH PATCH WE EXTRACT 16X16X1 OUTPUT --> THEFORE WE NEED ADDITIONAL 8X8X4 IN EACH EDGE\n",
        "outputx = ksize_rows//2  #16\n",
        "outputy = ksize_cols//2  #16\n",
        "outputz = 1\n",
        "Zc = ksize_planes//2 #4\n",
        "\n",
        "extrax = ksize_rows - outputx\n",
        "extray = ksize_cols - outputy\n",
        "extraz = ksize_planes - 1\n",
        "\n",
        "Nx2=Nx1 + extrax\n",
        "Ny2=Ny1 + extray\n",
        "Nz2=Nz1 + extraz\n",
        "\n",
        "Npatchesx = Nx1 // outputx\n",
        "Npatchesy = Ny1 // outputy"
      ]
    },
    {
      "cell_type": "markdown",
      "metadata": {
        "id": "iYn4MdZnKCey"
      },
      "source": [
        "## LOAD IMAGES\n"
      ]
    },
    {
      "cell_type": "code",
      "execution_count": null,
      "metadata": {
        "id": "Kn-k8kTXuAlv"
      },
      "outputs": [],
      "source": [
        "URL = 'https://tomografia.es/data/Ga68_V2_ALL.raw'\n",
        "PATH_Ga68_V2 = tf.keras.utils.get_file('Ga68_V2.raw',origin=URL)\n",
        "Ga68_V2_file = np.fromfile(PATH_Ga68_V2, dtype='float32')\n",
        "Ga68_V2 = Ga68_V2_file.reshape((Nt2,Nz0,Ny0,Nx0))"
      ]
    },
    {
      "cell_type": "code",
      "execution_count": null,
      "metadata": {
        "id": "VLkk52WP_WeO"
      },
      "outputs": [],
      "source": [
        "URL = 'https://tomografia.es/data/F18_V2_ALL.raw'\n",
        "PATH_F18_V2 = tf.keras.utils.get_file('F18_V2_ALL.raw',origin=URL)\n",
        "F18_V2_file = np.fromfile(PATH_F18_V2, dtype='float32')\n",
        "F18_V2 = F18_V2_file.reshape((Nt2,Nz0,Ny0,Nx0))"
      ]
    },
    {
      "cell_type": "code",
      "execution_count": null,
      "metadata": {
        "id": "Zii7gLNS_hCC"
      },
      "outputs": [],
      "source": [
        "URL = 'https://tomografia.es/data/MUNORM_V2_ALL.raw'\n",
        "PATH_MU_V2 = tf.keras.utils.get_file('MUNORM_V2_ALL.raw',origin=URL)\n",
        "MU_V2_file = np.fromfile(PATH_MU_V2, dtype='float32')\n",
        "MU_V2 = MU_V2_file.reshape((Nt2,Nz0,Ny0,Nx0))"
      ]
    },
    {
      "cell_type": "markdown",
      "metadata": {
        "id": "eOzjUrrPUTZv"
      },
      "source": [
        "## NORMALIZATION OF MUNORM (GLOBAL)"
      ]
    },
    {
      "cell_type": "code",
      "execution_count": null,
      "metadata": {
        "id": "-LzVpA_4UTZv",
        "outputId": "8357b38b-cf8f-439a-ceb3-f0910bccb5af"
      },
      "outputs": [
        {
          "name": "stdout",
          "output_type": "stream",
          "text": [
            "0.27039027\n"
          ]
        }
      ],
      "source": [
        "MAXM = np.max(MU_V2)\n",
        "MUN = MU_V2/MAXM\n",
        "print(MAXM)"
      ]
    },
    {
      "cell_type": "markdown",
      "metadata": {
        "id": "372rWKgWUTZv"
      },
      "source": [
        "## PATCHES FROM VOLUME"
      ]
    },
    {
      "cell_type": "code",
      "execution_count": null,
      "metadata": {
        "id": "RIVm9b5jUTZv"
      },
      "outputs": [],
      "source": [
        "Ga68_tf = tf.convert_to_tensor(Ga68_V2, tf.float32)\n",
        "Ga68_tf = tf.image.pad_to_bounding_box(Ga68_tf,stride_planes,0,Nz2,Nx0)\n",
        "Ga68_tf = tf.transpose(Ga68_tf, perm=[0,2,3,1])\n",
        "Ga68_tf = tf.image.pad_to_bounding_box(Ga68_tf,3+strides_rows,3+strides_cols,Nx2,Ny2)\n",
        "Ga68_tf = tf.transpose(Ga68_tf, perm=[0,3,1,2])\n",
        "Ga68_tf = tf.expand_dims(Ga68_tf,axis=-1)   #5-D Tensor with shape [batch, in_planes, in_rows, in_cols, depth].\n",
        "Ga68_tf_patches = tf.extract_volume_patches(Ga68_tf,ksizes,strides,padding)   #Extract patches from input and put them in the \"depth\" output dimension.\n",
        "\n",
        "F18_tf = tf.convert_to_tensor(F18_V2, tf.float32)\n",
        "F18_tf = tf.image.pad_to_bounding_box(F18_tf,stride_planes,0,Nz2,Nx0)\n",
        "F18_tf = tf.transpose(F18_tf, perm=[0,2,3,1])\n",
        "F18_tf = tf.image.pad_to_bounding_box(F18_tf,3+strides_cols,3+strides_cols,Nx2,Ny2)\n",
        "F18_tf = tf.transpose(F18_tf, perm=[0,3,1,2])\n",
        "F18_tf = tf.expand_dims(F18_tf,axis=-1)   #5-D Tensor with shape [batch, in_planes, in_rows, in_cols, depth].\n",
        "F18_tf_patches = tf.extract_volume_patches(F18_tf,ksizes,strides,padding)   #Extract patches from input and put them in the \"depth\" output dimension.\n",
        "\n",
        "MU_tf = tf.convert_to_tensor(MUN, tf.float32)\n",
        "MU_tf = tf.image.pad_to_bounding_box(MU_tf,stride_planes,0,Nz2,Nx0)\n",
        "MU_tf = tf.transpose(MU_tf, perm=[0,2,3,1])\n",
        "MU_tf = tf.image.pad_to_bounding_box(MU_tf,3+strides_cols,3+strides_cols,Nx2,Ny2)\n",
        "MU_tf = tf.transpose(MU_tf, perm=[0,3,1,2])\n",
        "MU_tf = tf.expand_dims(MU_tf,axis=-1)   #5-D Tensor with shape [batch, in_planes, in_rows, in_cols, depth].\n",
        "MU_tf_patches = tf.extract_volume_patches(MU_tf,ksizes,strides,padding)   #Extract patches from input and put them in the \"depth\" output dimension."
      ]
    },
    {
      "cell_type": "markdown",
      "metadata": {
        "id": "9vE3liJ1UTZv"
      },
      "source": [
        "## MAX OF EACH INPUT PATCH"
      ]
    },
    {
      "cell_type": "code",
      "execution_count": null,
      "metadata": {
        "id": "dxmlDi_CUTZw"
      },
      "outputs": [],
      "source": [
        "Ga = tf.reshape(Ga68_tf_patches,[-1,Ga68_tf_patches.shape[4]])\n",
        "Ga_max = tf.math.reduce_max(Ga,1)+tf.constant(1.0e-5)  #Avoid division by zero if patch is null\n",
        "Ga_max = tf.expand_dims(Ga_max,axis=-1)\n",
        "maximo = tf.tile(Ga_max,tf.constant([1,Ga.shape[1]], tf.int32))"
      ]
    },
    {
      "cell_type": "markdown",
      "metadata": {
        "id": "owB1tk05UTZw"
      },
      "source": [
        "## NORMALIZE EACH PATCH AND RESHAPE"
      ]
    },
    {
      "cell_type": "code",
      "execution_count": null,
      "metadata": {
        "id": "012vRuUrUTZw",
        "outputId": "d66a90dc-f169-4fb6-ba96-eeb63fc2ccaf"
      },
      "outputs": [
        {
          "data": {
            "text/plain": [
              "(16800, 32, 32, 9)"
            ]
          },
          "execution_count": 40,
          "metadata": {},
          "output_type": "execute_result"
        }
      ],
      "source": [
        "Ga = tf.divide(Ga,maximo)\n",
        "Ga = tf.reshape(Ga,[Ga.shape[0],ksize_planes,ksize_rows,ksize_cols])\n",
        "Ga = tf.transpose(Ga, perm=[0, 2, 1, 3])\n",
        "Ga = tf.transpose(Ga, perm=[0, 1, 3, 2])\n",
        "Ga68 = Ga.numpy()\n",
        "\n",
        "M = tf.reshape(MU_tf_patches,[-1,MU_tf_patches.shape[4]])\n",
        "M = tf.reshape(M,[M.shape[0],ksize_planes,ksize_rows,ksize_cols])\n",
        "M = tf.transpose(M, perm=[0, 2, 1, 3])\n",
        "M = tf.transpose(M, perm=[0, 1, 3, 2])\n",
        "MU = M.numpy()\n",
        "\n",
        "F = tf.reshape(F18_tf_patches,[-1,F18_tf_patches.shape[4]])\n",
        "F = tf.divide(F,maximo)\n",
        "F = tf.reshape(F,[F.shape[0],ksize_planes,ksize_rows,ksize_cols])\n",
        "F = tf.transpose(F, perm=[0, 2, 1, 3])\n",
        "F = tf.transpose(F, perm=[0, 1, 3, 2])\n",
        "F18 = F[:,:,:,Zc:Zc+1].numpy()\n",
        "Ga68.shape"
      ]
    },
    {
      "cell_type": "markdown",
      "metadata": {
        "id": "WTVo8xndK-2P"
      },
      "source": [
        "## INPUT  /  OUTPUT"
      ]
    },
    {
      "cell_type": "markdown",
      "metadata": {
        "id": "bCFYAtUhvA5s"
      },
      "source": [
        "4-D Tensor of shape [batch, height, width, channels]"
      ]
    },
    {
      "cell_type": "code",
      "execution_count": null,
      "metadata": {
        "id": "h1w3MGvNUTZx"
      },
      "outputs": [],
      "source": [
        "inp_np = Ga68  #np.concatenate((Ga68,MU),axis=-1)\n",
        "out_np = F18\n",
        "Npatches = F18.shape[0]  # Number of patches"
      ]
    },
    {
      "cell_type": "markdown",
      "metadata": {
        "id": "npi8Qq8dUTZx"
      },
      "source": [
        "## SPLIT DATA INTO TRAIN AND VALIDATION"
      ]
    },
    {
      "cell_type": "code",
      "execution_count": null,
      "metadata": {
        "id": "MsJwYqO8UTZx"
      },
      "outputs": [],
      "source": [
        "x_train, x_val, y_train, y_val = sk.train_test_split(inp_np, out_np, test_size=0.3, shuffle=True)"
      ]
    },
    {
      "cell_type": "markdown",
      "metadata": {
        "id": "ook2cZpAUTZy"
      },
      "source": [
        "## NUMPY TO TENSOR"
      ]
    },
    {
      "cell_type": "code",
      "execution_count": null,
      "metadata": {
        "id": "tSK-8_vQvjT0",
        "outputId": "f148891d-e6c4-4978-8f36-96f979ed45b4"
      },
      "outputs": [
        {
          "data": {
            "text/plain": [
              "TensorShape([11760, 32, 32, 9])"
            ]
          },
          "execution_count": 43,
          "metadata": {},
          "output_type": "execute_result"
        }
      ],
      "source": [
        "x_train_tf = tf.convert_to_tensor(x_train, tf.float32)\n",
        "x_val_tf = tf.convert_to_tensor(x_val, tf.float32)\n",
        "y_train_tf = tf.convert_to_tensor(y_train, tf.float32)\n",
        "y_val_tf = tf.convert_to_tensor(y_val, tf.float32)\n",
        "x_train_tf.shape"
      ]
    },
    {
      "cell_type": "markdown",
      "metadata": {
        "id": "gMrMTpfPJxnH"
      },
      "source": [
        "## SHOW EXAMPLE"
      ]
    },
    {
      "cell_type": "code",
      "execution_count": null,
      "metadata": {
        "colab": {
          "base_uri": "https://localhost:8080/",
          "height": 352
        },
        "id": "3ucCdMmS-5Tr",
        "outputId": "848b85af-42b9-4d72-e9db-9ebabd56ae83"
      },
      "outputs": [
        {
          "data": {
            "image/png": "[encoded data removed]",
            "text/plain": [
              "<Figure size 1440x360 with 2 Axes>"
            ]
          },
          "metadata": {
            "needs_background": "light"
          },
          "output_type": "display_data"
        }
      ],
      "source": [
        "k=17    #SLICE\n",
        "images = np.concatenate((x_val_tf[k,:,:,Zc], y_val_tf[k,:,:,0]), axis=1)\n",
        "\n",
        "fig, ax = plt.subplots(figsize=(20,5))\n",
        "im = ax.imshow(images,cmap='hot')\n",
        "_ = fig.colorbar(im, ax=ax)\n",
        "_ = ax.set_xlabel('[Ga68  /   F18 ]', fontsize=24)"
      ]
    },
    {
      "cell_type": "markdown",
      "metadata": {
        "id": "Ax5sV7EAoxLE"
      },
      "source": [
        "# U-NET"
      ]
    },
    {
      "cell_type": "code",
      "execution_count": null,
      "metadata": {
        "id": "cNtr5N5JooyY"
      },
      "outputs": [],
      "source": [
        "from keras_unet.models import custom_unet\n",
        "from keras_unet.utils import get_augmented\n",
        "\n",
        "#from tensorflow.keras.callbacks import ModelCheckpoint, EarlyStopping\n",
        "#from keras_unet.metrics import iou\n",
        "#from tensorflow.keras.optimizers import Adam, SGD"
      ]
    },
    {
      "cell_type": "raw",
      "metadata": {
        "id": "5l2DdYdSb8gu",
        "outputId": "8e81d9db-01ca-4593-b849-767bfb327c94"
      },
      "source": [
        "train_gen = get_augmented(x_train_tf, y_train_tf, batch_size=32,\n",
        "    data_gen_args = dict(width_shift_range=0.3,height_shift_range=0.3,rotation_range=90.0,\n",
        "        horizontal_flip=True,vertical_flip=True,fill_mode='nearest'))"
      ]
    },
    {
      "cell_type": "code",
      "execution_count": null,
      "metadata": {
        "id": "fF3G4QX6UTZz",
        "outputId": "a6f142c9-aa4e-417b-a9ed-5502d758e858"
      },
      "outputs": [
        {
          "name": "stderr",
          "output_type": "stream",
          "text": [
            "C:\\Users\\herra\\anaconda3\\lib\\site-packages\\keras_preprocessing\\image\\image_data_generator.py:938: UserWarning: Expected input to be images (as Numpy array) following the data format convention \"channels_last\" (channels on axis 3), i.e. expected either 1, 3 or 4 channels on axis 3. However, it was passed an array with shape (11760, 32, 32, 9) (9 channels).\n",
            "  warnings.warn(\n",
            "C:\\Users\\herra\\anaconda3\\lib\\site-packages\\keras_preprocessing\\image\\numpy_array_iterator.py:129: UserWarning: NumpyArrayIterator is set to use the data format convention \"channels_last\" (channels on axis 3), i.e. expected either 1, 3, or 4 channels on axis 3. However, it was passed an array with shape (11760, 32, 32, 9) (9 channels).\n",
            "  warnings.warn('NumpyArrayIterator is set to use the '\n"
          ]
        }
      ],
      "source": [
        "train_gen = get_augmented(x_train_tf, y_train_tf, batch_size=64,\n",
        "    data_gen_args = dict(horizontal_flip=True,vertical_flip=True))"
      ]
    },
    {
      "cell_type": "code",
      "execution_count": null,
      "metadata": {
        "id": "nBXbY3JIgSH7"
      },
      "outputs": [],
      "source": [
        "model = custom_unet(\n",
        "    input_shape=(x_train_tf.shape[1], x_train_tf.shape[2], x_train_tf.shape[3]),\n",
        "    use_batch_norm=True,\n",
        "    activation='swish',\n",
        "    filters=64,\n",
        "    num_layers=4,\n",
        "    use_attention=True,\n",
        "    dropout=0.2,\n",
        "    output_activation='relu')"
      ]
    },
    {
      "cell_type": "code",
      "execution_count": null,
      "metadata": {
        "id": "E1Vj9jijP5yu"
      },
      "outputs": [],
      "source": [
        "opt = tfa.optimizers.RectifiedAdam(lr=1e-3)\n",
        "opt = tfa.optimizers.Lookahead(opt)"
      ]
    },
    {
      "cell_type": "code",
      "execution_count": null,
      "metadata": {
        "id": "Sd03T9GDUTZz"
      },
      "outputs": [],
      "source": [
        "L1 = tf.keras.losses.MeanAbsoluteError(reduction=tf.keras.losses.Reduction.NONE)\n",
        "L2 = tf.keras.losses.MeanSquaredError(reduction=tf.keras.losses.Reduction.NONE)"
      ]
    },
    {
      "cell_type": "code",
      "execution_count": null,
      "metadata": {
        "id": "DpRDQ5jpUTZz"
      },
      "outputs": [],
      "source": [
        "def make_my_loss():\n",
        "    def my_loss(y_true, y_pred):\n",
        "        yt = tf.image.central_crop(y_true,0.5)   # TRAIN WITH THE CENTRAL PART OF THE PATCH\n",
        "        yp = tf.image.central_crop(y_pred,0.5)   # TRAIN WITH THE CENTRAL PART OF THE PATCH\n",
        "        return L1(yt, yp)\n",
        "    return my_loss"
      ]
    },
    {
      "cell_type": "code",
      "execution_count": null,
      "metadata": {
        "id": "fgRp3e85UTZ3"
      },
      "outputs": [],
      "source": [
        "my_loss = make_my_loss()"
      ]
    },
    {
      "cell_type": "code",
      "execution_count": null,
      "metadata": {
        "id": "Pgp7KZh3cLbl"
      },
      "outputs": [],
      "source": [
        "model.compile(optimizer=opt,loss=my_loss)"
      ]
    },
    {
      "cell_type": "code",
      "execution_count": null,
      "metadata": {
        "colab": {
          "base_uri": "https://localhost:8080/",
          "height": 1000
        },
        "id": "htYKGncpcOLe",
        "outputId": "ead08be8-63a5-4105-f877-ad135c939684"
      },
      "outputs": [
        {
          "name": "stdout",
          "output_type": "stream",
          "text": [
            "Epoch 1/100\n",
            "100/100 [==============================] - 26s 105ms/step - loss: 0.2682 - val_loss: 0.1456\n",
            "Epoch 2/100\n",
            "100/100 [==============================] - 10s 100ms/step - loss: 0.0533 - val_loss: 0.0730\n",
            "Epoch 3/100\n",
            "100/100 [==============================] - 10s 100ms/step - loss: 0.0375 - val_loss: 0.0504\n",
            "Epoch 4/100\n",
            "100/100 [==============================] - 10s 100ms/step - loss: 0.0265 - val_loss: 0.0296\n",
            "Epoch 5/100\n",
            "100/100 [==============================] - 10s 101ms/step - loss: 0.0254 - val_loss: 0.0214\n",
            "Epoch 6/100\n",
            "100/100 [==============================] - 10s 101ms/step - loss: 0.0246 - val_loss: 0.0164\n",
            "Epoch 7/100\n",
            "100/100 [==============================] - 10s 100ms/step - loss: 0.0230 - val_loss: 0.0188\n",
            "Epoch 8/100\n",
            "100/100 [==============================] - 10s 101ms/step - loss: 0.0221 - val_loss: 0.0289\n",
            "Epoch 9/100\n",
            "100/100 [==============================] - 10s 101ms/step - loss: 0.0234 - val_loss: 0.0133\n",
            "Epoch 10/100\n",
            "100/100 [==============================] - 10s 100ms/step - loss: 0.0203 - val_loss: 0.0201\n",
            "Epoch 11/100\n",
            "100/100 [==============================] - 10s 99ms/step - loss: 0.0211 - val_loss: 0.0218\n",
            "Epoch 12/100\n",
            "100/100 [==============================] - 10s 102ms/step - loss: 0.0228 - val_loss: 0.0131\n",
            "Epoch 13/100\n",
            "100/100 [==============================] - 10s 101ms/step - loss: 0.0203 - val_loss: 0.0147\n",
            "Epoch 14/100\n",
            "100/100 [==============================] - 10s 103ms/step - loss: 0.0211 - val_loss: 0.0180\n",
            "Epoch 15/100\n",
            "100/100 [==============================] - 10s 102ms/step - loss: 0.0204 - val_loss: 0.0137\n",
            "Epoch 16/100\n",
            "100/100 [==============================] - 10s 102ms/step - loss: 0.0201 - val_loss: 0.0133\n",
            "Epoch 17/100\n",
            "100/100 [==============================] - 10s 102ms/step - loss: 0.0199 - val_loss: 0.0233\n",
            "Epoch 18/100\n",
            "100/100 [==============================] - 10s 102ms/step - loss: 0.0209 - val_loss: 0.0153\n",
            "Epoch 19/100\n",
            "100/100 [==============================] - 10s 102ms/step - loss: 0.0196 - val_loss: 0.0175\n",
            "Epoch 20/100\n",
            "100/100 [==============================] - 10s 103ms/step - loss: 0.0172 - val_loss: 0.0129\n",
            "Epoch 21/100\n",
            "100/100 [==============================] - 10s 101ms/step - loss: 0.0186 - val_loss: 0.0126\n",
            "Epoch 22/100\n",
            "100/100 [==============================] - 10s 103ms/step - loss: 0.0171 - val_loss: 0.0119\n",
            "Epoch 23/100\n",
            "100/100 [==============================] - 10s 103ms/step - loss: 0.0184 - val_loss: 0.0161\n",
            "Epoch 24/100\n",
            "100/100 [==============================] - 10s 101ms/step - loss: 0.0171 - val_loss: 0.0123\n",
            "Epoch 25/100\n",
            "100/100 [==============================] - 10s 102ms/step - loss: 0.0194 - val_loss: 0.0136\n",
            "Epoch 26/100\n",
            "100/100 [==============================] - 10s 101ms/step - loss: 0.0178 - val_loss: 0.0246\n",
            "Epoch 27/100\n",
            "100/100 [==============================] - 10s 104ms/step - loss: 0.0183 - val_loss: 0.0122\n",
            "Epoch 28/100\n",
            "100/100 [==============================] - 10s 105ms/step - loss: 0.0171 - val_loss: 0.0136\n",
            "Epoch 29/100\n",
            "100/100 [==============================] - 10s 103ms/step - loss: 0.0174 - val_loss: 0.0149\n",
            "Epoch 30/100\n",
            "100/100 [==============================] - 10s 104ms/step - loss: 0.0164 - val_loss: 0.0151\n",
            "Epoch 31/100\n",
            "100/100 [==============================] - 10s 104ms/step - loss: 0.0165 - val_loss: 0.0146\n",
            "Epoch 32/100\n",
            "100/100 [==============================] - 10s 104ms/step - loss: 0.0171 - val_loss: 0.0121\n",
            "Epoch 33/100\n",
            "100/100 [==============================] - 11s 106ms/step - loss: 0.0185 - val_loss: 0.0115\n",
            "Epoch 34/100\n",
            "100/100 [==============================] - 11s 105ms/step - loss: 0.0169 - val_loss: 0.0127\n",
            "Epoch 35/100\n",
            "100/100 [==============================] - 10s 105ms/step - loss: 0.0159 - val_loss: 0.0130\n",
            "Epoch 36/100\n",
            "100/100 [==============================] - 10s 104ms/step - loss: 0.0162 - val_loss: 0.0107\n",
            "Epoch 37/100\n",
            "100/100 [==============================] - 10s 104ms/step - loss: 0.0158 - val_loss: 0.0132\n",
            "Epoch 38/100\n",
            "100/100 [==============================] - 10s 101ms/step - loss: 0.0157 - val_loss: 0.0153\n",
            "Epoch 39/100\n",
            "100/100 [==============================] - 10s 102ms/step - loss: 0.0176 - val_loss: 0.0120\n",
            "Epoch 40/100\n",
            "100/100 [==============================] - 10s 102ms/step - loss: 0.0156 - val_loss: 0.0114\n",
            "Epoch 41/100\n",
            "100/100 [==============================] - 10s 102ms/step - loss: 0.0161 - val_loss: 0.0148\n",
            "Epoch 42/100\n",
            "100/100 [==============================] - 10s 102ms/step - loss: 0.0155 - val_loss: 0.0166\n",
            "Epoch 43/100\n",
            "100/100 [==============================] - 10s 101ms/step - loss: 0.0159 - val_loss: 0.0181\n",
            "Epoch 44/100\n",
            "100/100 [==============================] - 10s 101ms/step - loss: 0.0150 - val_loss: 0.0137\n",
            "Epoch 45/100\n",
            "100/100 [==============================] - 10s 102ms/step - loss: 0.0151 - val_loss: 0.0111\n",
            "Epoch 46/100\n",
            "100/100 [==============================] - 10s 102ms/step - loss: 0.0156 - val_loss: 0.0120\n",
            "Epoch 47/100\n",
            "100/100 [==============================] - 10s 101ms/step - loss: 0.0134 - val_loss: 0.0178\n",
            "Epoch 48/100\n",
            "100/100 [==============================] - 10s 101ms/step - loss: 0.0155 - val_loss: 0.0108\n",
            "Epoch 49/100\n",
            "100/100 [==============================] - 10s 101ms/step - loss: 0.0145 - val_loss: 0.0119\n",
            "Epoch 50/100\n",
            "100/100 [==============================] - 10s 102ms/step - loss: 0.0151 - val_loss: 0.0125\n",
            "Epoch 51/100\n",
            "100/100 [==============================] - 10s 101ms/step - loss: 0.0149 - val_loss: 0.0099\n",
            "Epoch 52/100\n",
            "100/100 [==============================] - 10s 101ms/step - loss: 0.0159 - val_loss: 0.0134\n",
            "Epoch 53/100\n",
            "100/100 [==============================] - 10s 103ms/step - loss: 0.0145 - val_loss: 0.0114\n",
            "Epoch 54/100\n",
            "100/100 [==============================] - 10s 105ms/step - loss: 0.0138 - val_loss: 0.0102\n",
            "Epoch 55/100\n",
            "100/100 [==============================] - 10s 105ms/step - loss: 0.0148 - val_loss: 0.0115\n",
            "Epoch 56/100\n",
            "100/100 [==============================] - 10s 103ms/step - loss: 0.0135 - val_loss: 0.0122\n",
            "Epoch 57/100\n",
            "100/100 [==============================] - 10s 103ms/step - loss: 0.0144 - val_loss: 0.0104\n",
            "Epoch 58/100\n",
            "100/100 [==============================] - 10s 105ms/step - loss: 0.0136 - val_loss: 0.0179\n",
            "Epoch 59/100\n",
            "100/100 [==============================] - 10s 104ms/step - loss: 0.0149 - val_loss: 0.0124\n",
            "Epoch 60/100\n",
            "100/100 [==============================] - 10s 104ms/step - loss: 0.0138 - val_loss: 0.0135\n",
            "Epoch 61/100\n",
            "100/100 [==============================] - 10s 104ms/step - loss: 0.0138 - val_loss: 0.0115\n",
            "Epoch 62/100\n",
            "100/100 [==============================] - 10s 103ms/step - loss: 0.0137 - val_loss: 0.0097\n",
            "Epoch 63/100\n",
            "100/100 [==============================] - 11s 105ms/step - loss: 0.0138 - val_loss: 0.0104\n",
            "Epoch 64/100\n",
            "100/100 [==============================] - 10s 105ms/step - loss: 0.0149 - val_loss: 0.0132\n",
            "Epoch 65/100\n",
            "100/100 [==============================] - 10s 105ms/step - loss: 0.0138 - val_loss: 0.0125\n",
            "Epoch 66/100\n",
            "100/100 [==============================] - 11s 107ms/step - loss: 0.0131 - val_loss: 0.0096\n",
            "Epoch 67/100\n",
            "100/100 [==============================] - 11s 105ms/step - loss: 0.0130 - val_loss: 0.0098\n",
            "Epoch 68/100\n",
            "100/100 [==============================] - 10s 102ms/step - loss: 0.0136 - val_loss: 0.0113\n",
            "Epoch 69/100\n",
            "100/100 [==============================] - 10s 102ms/step - loss: 0.0141 - val_loss: 0.0105\n",
            "Epoch 70/100\n",
            "100/100 [==============================] - 10s 104ms/step - loss: 0.0124 - val_loss: 0.0099\n",
            "Epoch 71/100\n",
            "100/100 [==============================] - 10s 103ms/step - loss: 0.0124 - val_loss: 0.0116\n",
            "Epoch 72/100\n",
            "100/100 [==============================] - 10s 101ms/step - loss: 0.0133 - val_loss: 0.0109\n",
            "Epoch 73/100\n",
            "100/100 [==============================] - 10s 103ms/step - loss: 0.0128 - val_loss: 0.0099\n",
            "Epoch 74/100\n",
            "100/100 [==============================] - 10s 104ms/step - loss: 0.0124 - val_loss: 0.0094\n",
            "Epoch 75/100\n",
            "100/100 [==============================] - 10s 102ms/step - loss: 0.0123 - val_loss: 0.0099\n",
            "Epoch 76/100\n",
            "100/100 [==============================] - 10s 101ms/step - loss: 0.0126 - val_loss: 0.0111\n",
            "Epoch 77/100\n",
            "100/100 [==============================] - 10s 101ms/step - loss: 0.0123 - val_loss: 0.0101\n",
            "Epoch 78/100\n",
            "100/100 [==============================] - 10s 102ms/step - loss: 0.0128 - val_loss: 0.0104\n",
            "Epoch 79/100\n",
            "100/100 [==============================] - 11s 105ms/step - loss: 0.0126 - val_loss: 0.0109\n",
            "Epoch 80/100\n",
            "100/100 [==============================] - 10s 105ms/step - loss: 0.0123 - val_loss: 0.0110\n",
            "Epoch 81/100\n",
            "100/100 [==============================] - 10s 104ms/step - loss: 0.0122 - val_loss: 0.0096\n",
            "Epoch 82/100\n",
            "100/100 [==============================] - 11s 106ms/step - loss: 0.0120 - val_loss: 0.0109\n",
            "Epoch 83/100\n",
            "100/100 [==============================] - 10s 104ms/step - loss: 0.0129 - val_loss: 0.0117\n",
            "Epoch 84/100\n",
            "100/100 [==============================] - 10s 102ms/step - loss: 0.0124 - val_loss: 0.0095\n",
            "Epoch 85/100\n",
            "100/100 [==============================] - 10s 101ms/step - loss: 0.0122 - val_loss: 0.0103\n",
            "Epoch 86/100\n",
            "100/100 [==============================] - 10s 103ms/step - loss: 0.0118 - val_loss: 0.0112\n",
            "Epoch 87/100\n",
            "100/100 [==============================] - 10s 102ms/step - loss: 0.0127 - val_loss: 0.0099\n",
            "Epoch 88/100\n",
            "100/100 [==============================] - 10s 102ms/step - loss: 0.0120 - val_loss: 0.0108\n",
            "Epoch 89/100\n",
            "100/100 [==============================] - 10s 101ms/step - loss: 0.0121 - val_loss: 0.0099\n",
            "Epoch 90/100\n",
            "100/100 [==============================] - 10s 102ms/step - loss: 0.0121 - val_loss: 0.0092\n",
            "Epoch 91/100\n",
            "100/100 [==============================] - 10s 102ms/step - loss: 0.0129 - val_loss: 0.0108\n",
            "Epoch 92/100\n",
            "100/100 [==============================] - 10s 103ms/step - loss: 0.0119 - val_loss: 0.0102\n",
            "Epoch 93/100\n",
            "100/100 [==============================] - 10s 103ms/step - loss: 0.0115 - val_loss: 0.0096\n",
            "Epoch 94/100\n",
            "100/100 [==============================] - 10s 102ms/step - loss: 0.0120 - val_loss: 0.0102\n",
            "Epoch 95/100\n",
            "100/100 [==============================] - 10s 105ms/step - loss: 0.0121 - val_loss: 0.0103\n",
            "Epoch 96/100\n",
            "100/100 [==============================] - 10s 103ms/step - loss: 0.0123 - val_loss: 0.0091\n",
            "Epoch 97/100\n",
            "100/100 [==============================] - 10s 102ms/step - loss: 0.0123 - val_loss: 0.0100\n",
            "Epoch 98/100\n",
            "100/100 [==============================] - 10s 102ms/step - loss: 0.0122 - val_loss: 0.0102\n",
            "Epoch 99/100\n",
            "100/100 [==============================] - 10s 100ms/step - loss: 0.0121 - val_loss: 0.0091\n",
            "Epoch 100/100\n",
            "100/100 [==============================] - 10s 103ms/step - loss: 0.0119 - val_loss: 0.0101\n"
          ]
        }
      ],
      "source": [
        "history = model.fit(train_gen,steps_per_epoch=100, epochs=200, validation_data=(x_val_tf, y_val_tf))"
      ]
    },
    {
      "cell_type": "code",
      "execution_count": null,
      "metadata": {
        "colab": {
          "base_uri": "https://localhost:8080/",
          "height": 324
        },
        "id": "n3-84riocQMA",
        "outputId": "e6c2399f-e809-45ca-8739-fc282f923258"
      },
      "outputs": [
        {
          "name": "stderr",
          "output_type": "stream",
          "text": [
            "<ipython-input-55-15d81941667f>:9: UserWarning: Matplotlib is currently using module://ipykernel.pylab.backend_inline, which is a non-GUI backend, so cannot show the figure.\n",
            "  fig.show()\n"
          ]
        },
        {
          "data": {
            "image/png": "[encoded data removed]",
            "text/plain": [
              "<Figure size 1440x360 with 1 Axes>"
            ]
          },
          "metadata": {
            "needs_background": "light"
          },
          "output_type": "display_data"
        }
      ],
      "source": [
        "fig, ax = plt.subplots(figsize=(20,5))\n",
        "\n",
        "loss = np.array(history.history['loss'])\n",
        "var_loss = np.array(history.history['val_loss'])\n",
        "ax.plot(20*np.log(1+loss), 'orange', label='Training Loss')\n",
        "ax.plot(20*np.log(1+var_loss), 'green', label='Validation loss')\n",
        "ax.set_ylim([0, 1])\n",
        "ax.legend()\n",
        "fig.show()"
      ]
    },
    {
      "cell_type": "markdown",
      "metadata": {
        "id": "sSXZaceaUTZ4"
      },
      "source": [
        "## SAVE LOSS HISTORY"
      ]
    },
    {
      "cell_type": "code",
      "execution_count": null,
      "metadata": {
        "id": "QkVlR8tEUTZ4"
      },
      "outputs": [],
      "source": [
        "loss = np.array(history.history['loss'])\n",
        "var_loss = np.array(history.history['val_loss'])\n",
        "loss_info = np.transpose(100*np.array([loss,var_loss]))\n",
        "np.savetxt((\"LOSS_%d.csv\" % 0), loss_info, fmt='%.3f', delimiter='\\t')"
      ]
    },
    {
      "cell_type": "markdown",
      "metadata": {
        "id": "UsSk17Bmc8pk"
      },
      "source": [
        "## SAVE MODEL"
      ]
    },
    {
      "cell_type": "code",
      "execution_count": null,
      "metadata": {
        "id": "7RuWUclpzPN9"
      },
      "outputs": [],
      "source": [
        "# Save the entire model as a HDF5 file.\n",
        "model.save('PRC_FULLY3D.h5')"
      ]
    },
    {
      "cell_type": "markdown",
      "metadata": {
        "id": "clrRjqWldFlL"
      },
      "source": [
        "## RESTORING MODEL"
      ]
    },
    {
      "cell_type": "code",
      "execution_count": null,
      "metadata": {
        "id": "HHUsmcTHgM36"
      },
      "outputs": [],
      "source": [
        "new_model = tf.keras.models.load_model('PRC_FULLY3D.h5',compile=False)   # LOADING KERAS MODEL\n",
        "opt = tfa.optimizers.RectifiedAdam(lr=1e-3)\n",
        "opt = tfa.optimizers.Lookahead(opt)\n",
        "new_model.compile(optimizer=opt,loss='MeanAbsoluteError')"
      ]
    },
    {
      "cell_type": "code",
      "execution_count": null,
      "metadata": {
        "colab": {
          "base_uri": "https://localhost:8080/",
          "height": 392
        },
        "id": "c2CzhO1rddhA",
        "outputId": "ee7193c3-3d56-4040-b9fc-ae8d6453122f"
      },
      "outputs": [
        {
          "data": {
            "text/plain": [
              "Text(0.5, 1.0, 'F18')"
            ]
          },
          "execution_count": 59,
          "metadata": {},
          "output_type": "execute_result"
        },
        {
          "data": {
            "image/png": "[encoded data removed]",
            "text/plain": [
              "<Figure size 1440x720 with 3 Axes>"
            ]
          },
          "metadata": {
            "needs_background": "light"
          },
          "output_type": "display_data"
        }
      ],
      "source": [
        "img_index = 34\n",
        "test = np.expand_dims(x_val[img_index,:,:,:],axis=0)\n",
        "estim = new_model.predict(test)\n",
        "Ga68_img = np.squeeze(test[:,:,:,Zc])\n",
        "estim_img = np.squeeze(estim[:,:,:,0])\n",
        "F18_img = np.squeeze(y_val[img_index,:,:,0])\n",
        "\n",
        "plt.figure(figsize=(20, 10))\n",
        "plt.subplot(1,3,1)\n",
        "plt.imshow(Ga68_img, cmap=plt.cm.bone)\n",
        "plt.axis('off')\n",
        "plt.title('Ga68')\n",
        "\n",
        "plt.subplot(1,3,2)\n",
        "plt.imshow(estim_img, cmap=plt.cm.bone)\n",
        "plt.axis('off')\n",
        "plt.title('Estimated')\n",
        "\n",
        "plt.subplot(1,3,3)\n",
        "plt.imshow(F18_img, cmap=plt.cm.bone)\n",
        "plt.axis('off')\n",
        "plt.title('F18')"
      ]
    },
    {
      "cell_type": "markdown",
      "metadata": {
        "id": "Q3IQYKUsUTZ6"
      },
      "source": [
        "## DEPLOYMENT - STEP 1 ) ADAPTING INPUT --> PATCHES"
      ]
    },
    {
      "cell_type": "code",
      "execution_count": null,
      "metadata": {
        "id": "dF7FlYEFUTZ6",
        "outputId": "e546b53a-ae79-4118-87da-25981b483991"
      },
      "outputs": [
        {
          "data": {
            "text/plain": [
              "TensorShape([8100, 32, 32, 9])"
            ]
          },
          "execution_count": 60,
          "metadata": {},
          "output_type": "execute_result"
        }
      ],
      "source": [
        "import time\n",
        "t0 = time.time()\n",
        "\n",
        "TGa68 = Ga68_V2[0,:,:,:]\n",
        "TGa68_tf = tf.convert_to_tensor(TGa68, tf.float32)\n",
        "TGa68_tf = tf.expand_dims(TGa68_tf,axis=0)\n",
        "Tstride_planes = 1\n",
        "TGa68_tf = tf.image.pad_to_bounding_box(TGa68_tf,stride_planes,0,Nz2,Nx0)\n",
        "TGa68_tf = tf.transpose(TGa68_tf, perm=[0,2,3,1])\n",
        "TGa68_tf = tf.image.pad_to_bounding_box(TGa68_tf,3+strides_rows//2,3+strides_cols//2,Nx2,Ny2)\n",
        "TGa68_tf = tf.transpose(TGa68_tf, perm=[0,3,1,2])\n",
        "TGa68_tf = tf.expand_dims(TGa68_tf,axis=-1)                     # 5-D Tensor with shape [batch, in_planes, in_rows, in_cols, depth].\n",
        "\n",
        "Tstrides = [1, Tstride_planes, strides_rows, strides_cols, 1]   # How far the centers of two consecutive patches are in input.\n",
        "TGa68_tf_patches = tf.extract_volume_patches(TGa68_tf,ksizes,Tstrides,padding)   #Extract patches from input and put them in the \"depth\" output dimension.\n",
        "TGa68_tf_patches.shape\n",
        "\n",
        "TGa = tf.reshape(TGa68_tf_patches,[-1,TGa68_tf_patches.shape[4]])\n",
        "TGa_max = tf.math.reduce_max(TGa,1)+tf.constant(1.0e-5)\n",
        "TGa_max = tf.expand_dims(TGa_max,axis=-1)\n",
        "Tmaximo = tf.tile(TGa_max,tf.constant([1,TGa.shape[1]], tf.int32))\n",
        "\n",
        "TGa = tf.divide(TGa,Tmaximo)\n",
        "TGa = tf.reshape(TGa,[TGa.shape[0],ksize_planes,ksize_rows,ksize_cols])\n",
        "TGa = tf.transpose(TGa, perm=[0, 2, 3, 1])\n",
        "\n",
        "TGa.shape"
      ]
    },
    {
      "cell_type": "markdown",
      "metadata": {
        "id": "LyHgRDhGUTZ6"
      },
      "source": [
        "## DEPLOYMENT - STEP 2 ) NORMALIZATION INPUT"
      ]
    },
    {
      "cell_type": "code",
      "execution_count": null,
      "metadata": {
        "id": "f8y4homwUTZ6",
        "outputId": "e68874ce-2454-48e9-d3f5-06a68560e781"
      },
      "outputs": [
        {
          "data": {
            "text/plain": [
              "TensorShape([8100, 16, 16, 1])"
            ]
          },
          "execution_count": 61,
          "metadata": {},
          "output_type": "execute_result"
        }
      ],
      "source": [
        "Tmaxim2 = tf.tile(TGa_max,tf.constant([1,ksize_rows*ksize_cols//4], tf.int32))\n",
        "Tmaxim2 = tf.reshape(Tmaxim2,[Tmaxim2.shape[0],ksize_rows//2,ksize_cols//2,1])\n",
        "Tmaxim2.shape"
      ]
    },
    {
      "cell_type": "markdown",
      "metadata": {
        "id": "ajBqeB1oUTZ7"
      },
      "source": [
        "## DEPLOYMENT - STEP 3 ) MODEL PREDICT"
      ]
    },
    {
      "cell_type": "code",
      "execution_count": null,
      "metadata": {
        "id": "CNAm7N2WUTZ7",
        "outputId": "52aa90f1-2b25-4ac0-e07e-e6a3ac716bb3"
      },
      "outputs": [
        {
          "name": "stdout",
          "output_type": "stream",
          "text": [
            "2.8044540882110596\n"
          ]
        }
      ],
      "source": [
        "t1 = time.time()\n",
        "TEst = model.predict(TGa)\n",
        "t2 = time.time()\n",
        "TEst = tf.image.central_crop(TEst,0.5)   # KEEP JUST THE CENTRAL PART\n",
        "TEst = tf.multiply(TEst,Tmaxim2)  #Restore Normalization    #SHAPE 8100,16,16,1\n",
        "TEst2 = tf.reshape(TEst,[-1,Npatchesy,Npatchesx,16,16])     #SHAPE 81X10X10X16X16\n",
        "TEst3 = tf.transpose(TEst2,perm=[0,1,3,2,4])                #SHAPE 81X10X16X10X16   (REMEMBER: VOLUME [Z,Y,X] ORDER)\n",
        "TEst3 = tf.reshape(TEst3,[-1,Ny1,Nx1])                      #SHAPE 81X160X160\n",
        "print(t2-t1)"
      ]
    },
    {
      "cell_type": "markdown",
      "metadata": {
        "id": "IihjWBakUTZ7"
      },
      "source": [
        "## SAVING RESULT\n",
        "Raw format (Nx0 = 154, Ny0 = 154, Nz0 = 80) Float32"
      ]
    },
    {
      "cell_type": "code",
      "execution_count": null,
      "metadata": {
        "id": "_gkl-SeCUTZ8"
      },
      "outputs": [],
      "source": [
        "d = np.array(TGa68,'float32')\n",
        "f=open(\"Initial.raw\",\"wb\")\n",
        "f.write(d)\n",
        "f.close()"
      ]
    },
    {
      "cell_type": "code",
      "execution_count": null,
      "metadata": {
        "id": "ZeJV2Cz0UTZ9"
      },
      "outputs": [],
      "source": [
        "d = np.array(F18_V2[0,:,:,:],'float32')\n",
        "f=open(\"Reference.raw\",\"wb\")\n",
        "f.write(d)\n",
        "f.close()"
      ]
    },
    {
      "cell_type": "code",
      "execution_count": null,
      "metadata": {
        "id": "vW7MqgB5UTZ9"
      },
      "outputs": [],
      "source": [
        "d = np.squeeze(np.array(TEst3[0:Nz0,3:157,3:157],'float32'))\n",
        "f=open(\"Corrected.raw\",\"wb\")\n",
        "f.write(d)\n",
        "f.close()"
      ]
    }
  ],
  "metadata": {
    "accelerator": "GPU",
    "colab": {
      "name": "PRC_GFN_UCM_UNET.ipynb",
      "provenance": [],
      "include_colab_link": true
    },
    "environment": {
      "name": "tf2-2-2-gpu.2-2.m50",
      "type": "gcloud",
      "uri": "gcr.io/deeplearning-platform-release/tf2-2-2-gpu.2-2:m50"
    },
    "kernelspec": {
      "display_name": "Python 3",
      "language": "python",
      "name": "python3"
    },
    "language_info": {
      "codemirror_mode": {
        "name": "ipython",
        "version": 3
      },
      "file_extension": ".py",
      "mimetype": "text/x-python",
      "name": "python",
      "nbconvert_exporter": "python",
      "pygments_lexer": "ipython3",
      "version": "3.8.5"
    }
  },
  "nbformat": 4,
  "nbformat_minor": 0
}